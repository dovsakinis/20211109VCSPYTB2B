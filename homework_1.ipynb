{
 "cells": [
  {
   "cell_type": "code",
   "execution_count": 27,
   "metadata": {},
   "outputs": [
    {
     "name": "stdout",
     "output_type": "stream",
     "text": [
      "ex&rcis&\n"
     ]
    }
   ],
   "source": [
    "#1. For a given string, change all occurrences of its first character to '&', except the first character itself. \n",
    "# Example string: 'exercise'\n",
    "#Expected output: 'ex&rcis&'\n",
    "\n",
    "my_string = 'exercise'\n",
    "my_edit = my_string[0] + my_string[1:].replace(my_string[0], '&')\n",
    "print(my_edit)\n"
   ]
  },
  {
   "cell_type": "code",
   "execution_count": 26,
   "metadata": {},
   "outputs": [
    {
     "data": {
      "text/plain": [
       "3"
      ]
     },
     "execution_count": 26,
     "metadata": {},
     "output_type": "execute_result"
    }
   ],
   "source": [
    "#Find all occurrences of a substring in a given text by ignoring the letter case.\n",
    "#text = 'We few, we happy few, we band of brothers  '\n",
    "#substring = 'We'\n",
    "#Expected output: 3\n",
    "\n",
    "my_sentence = 'We few, we happy few, we band of brothers'\n",
    "my_sentence.lower().count('we')\n"
   ]
  },
  {
   "cell_type": "code",
   "execution_count": 25,
   "metadata": {},
   "outputs": [
    {
     "data": {
      "text/plain": [
       "109"
      ]
     },
     "execution_count": 25,
     "metadata": {},
     "output_type": "execute_result"
    }
   ],
   "source": [
    "#Find the last position (index) of a given substring.\n",
    "#example text: 'I felt happy because I saw the others were happy and because I knew I should feel happy, but I wasn’t really happy.'\n",
    "#example substring: 'happy'\n",
    "#Expected output: 109\n",
    "\n",
    "my_sentence = 'I felt happy because I saw the others were happy and because I knew I should feel happy, but I wasn’t really happy.'\n",
    "my_sentence.rindex('happy')\n"
   ]
  }
 ],
 "metadata": {
  "interpreter": {
   "hash": "aee8b7b246df8f9039afb4144a1f6fd8d2ca17a180786b69acc140d282b71a49"
  },
  "kernelspec": {
   "display_name": "Python 3.10.0 64-bit",
   "language": "python",
   "name": "python3"
  },
  "language_info": {
   "codemirror_mode": {
    "name": "ipython",
    "version": 3
   },
   "file_extension": ".py",
   "mimetype": "text/x-python",
   "name": "python",
   "nbconvert_exporter": "python",
   "pygments_lexer": "ipython3",
   "version": "3.10.0"
  },
  "orig_nbformat": 4
 },
 "nbformat": 4,
 "nbformat_minor": 2
}
