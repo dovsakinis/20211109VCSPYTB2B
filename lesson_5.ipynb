{
 "cells": [
  {
   "cell_type": "markdown",
   "metadata": {},
   "source": [
    "# IF Statements"
   ]
  },
  {
   "cell_type": "code",
   "execution_count": 3,
   "metadata": {},
   "outputs": [
    {
     "name": "stdout",
     "output_type": "stream",
     "text": [
      "That is true\n",
      "end of script\n"
     ]
    }
   ],
   "source": [
    "if 2 > 1:\n",
    "    print ('That is true')\n",
    "print('end of script')"
   ]
  },
  {
   "cell_type": "code",
   "execution_count": 8,
   "metadata": {},
   "outputs": [
    {
     "name": "stdout",
     "output_type": "stream",
     "text": [
      "number is more than ten\n",
      "end of script\n"
     ]
    }
   ],
   "source": [
    "number = 15\n",
    "if number > 10:\n",
    "    print ('number is more than ten')\n",
    "else: \n",
    "    print ('number is less or equal than ten or not a number')\n",
    "\n",
    "print('end of script')"
   ]
  },
  {
   "cell_type": "code",
   "execution_count": 9,
   "metadata": {},
   "outputs": [
    {
     "name": "stdout",
     "output_type": "stream",
     "text": [
      "Hi Dovydas\n",
      "end of script\n"
     ]
    }
   ],
   "source": [
    "name = 'Dovydas'\n",
    "year = 2005\n",
    "\n",
    "if name == 'Linas':\n",
    "    print ('Hi Linas')\n",
    "elif name == 'Dovydas' and year == 2005:\n",
    "    print ('Hi Dovydas')\n",
    "else:\n",
    "    print ('Hi unknown person')\n",
    "print('end of script')"
   ]
  },
  {
   "cell_type": "code",
   "execution_count": 11,
   "metadata": {},
   "outputs": [
    {
     "name": "stdout",
     "output_type": "stream",
     "text": [
      "year is greater than 2000\n",
      "end of script\n"
     ]
    }
   ],
   "source": [
    "name = 'Dovydas'\n",
    "year = 2005\n",
    "\n",
    "if name == 'Linas':\n",
    "    print ('Hi Linas')\n",
    "elif  year > 2000:\n",
    "    print ('year is greater than 2000')\n",
    "elif name == 'Dovydas' and year > 2000:    \n",
    "    print ('Hi Dovydas')\n",
    "else:\n",
    "    print ('Hi unknown person')\n",
    "print('end of script')"
   ]
  },
  {
   "cell_type": "code",
   "execution_count": 25,
   "metadata": {},
   "outputs": [
    {
     "name": "stdout",
     "output_type": "stream",
     "text": [
      "2\n",
      "3\n",
      "5\n",
      "7\n",
      "11\n",
      "13\n",
      "17\n",
      "19\n",
      "23\n",
      "29\n",
      "31\n",
      "37\n",
      "41\n",
      "43\n",
      "47\n",
      "53\n",
      "59\n",
      "61\n",
      "67\n",
      "71\n",
      "73\n",
      "79\n",
      "83\n",
      "89\n",
      "97\n"
     ]
    }
   ],
   "source": [
    "# all prime numbers in the range\n",
    "\n",
    "for number in range(0,101):\n",
    "  \n",
    "   if number > 1:\n",
    "       for i in range(2, number):\n",
    "           if (number % i) == 0:\n",
    "               break\n",
    "       else:\n",
    "           print(number)"
   ]
  },
  {
   "cell_type": "code",
   "execution_count": 20,
   "metadata": {},
   "outputs": [
    {
     "name": "stdout",
     "output_type": "stream",
     "text": [
      "2\n",
      "6\n",
      "12\n",
      "20\n",
      "30\n",
      "42\n",
      "56\n",
      "72\n",
      "90\n",
      "110\n",
      "132\n",
      "156\n",
      "182\n",
      "210\n",
      "240\n",
      "272\n",
      "306\n",
      "342\n",
      "380\n",
      "420\n",
      "462\n",
      "506\n",
      "552\n",
      "600\n",
      "650\n"
     ]
    }
   ],
   "source": [
    "#\n",
    "my_sum = 0 \n",
    "for number in range(1,51): \n",
    "\tif (my_sum + number) % 2 == 0:\n",
    "                my_sum += number \n",
    "                print(my_sum)"
   ]
  },
  {
   "cell_type": "code",
   "execution_count": 24,
   "metadata": {},
   "outputs": [
    {
     "name": "stdout",
     "output_type": "stream",
     "text": [
      "Monday\n",
      "12\n",
      "13\n",
      "14\n",
      "15\n",
      "16\n",
      "17\n",
      "checking next day\n",
      "Wednesday\n",
      "12\n",
      "13\n",
      "14\n",
      "15\n",
      "16\n",
      "17\n",
      "checking next day\n",
      "[('Monday', 12), ('Monday', 13), ('Monday', 14), ('Monday', 15), ('Monday', 16), ('Monday', 17), ('Wednesday', 12), ('Wednesday', 13), ('Wednesday', 14), ('Wednesday', 15), ('Wednesday', 16), ('Wednesday', 17)]\n"
     ]
    }
   ],
   "source": [
    "days = ('Monday','Tuesday','Wednesday','Thursday','Friday','Saturday','Sunday')\n",
    "hours = [10,11,12,13,14,15,16,17,18,19]\n",
    "\n",
    "available_days = ['Monday','Wednesday']\n",
    "available_hours = [12,13,14,15,16,17]\n",
    "\n",
    "combinations = []\n",
    "for day in days:\n",
    "    if day in available_days:\n",
    "        print (day)\n",
    "        for hour in hours:\n",
    "            if hour in available_hours:\n",
    "                print(hour)\n",
    "                combination = (day,hour)\n",
    "                combinations.append( combination )\n",
    "        print ('checking next day')\n",
    "\n",
    "print(combinations)"
   ]
  },
  {
   "cell_type": "markdown",
   "metadata": {},
   "source": [
    "# List comprehension"
   ]
  },
  {
   "cell_type": "code",
   "execution_count": 26,
   "metadata": {},
   "outputs": [
    {
     "name": "stdout",
     "output_type": "stream",
     "text": [
      "[10, 8, 148, 16]\n"
     ]
    }
   ],
   "source": [
    "my_list = [5,4,74,8]\n",
    "\n",
    "mult_2 = [number *2 for number in my_list]\n",
    "\n",
    "print (mult_2)"
   ]
  },
  {
   "cell_type": "code",
   "execution_count": 27,
   "metadata": {},
   "outputs": [
    {
     "name": "stdout",
     "output_type": "stream",
     "text": [
      "[8, 148]\n"
     ]
    }
   ],
   "source": [
    "my_list = [5,4,74,7]\n",
    "\n",
    "#[RESULT for STH in ITERABLE]\n",
    "mult_2 = [number *2 for number in my_list if number %2 ==0 ]\n",
    "\n",
    "print (mult_2)"
   ]
  },
  {
   "cell_type": "code",
   "execution_count": 29,
   "metadata": {},
   "outputs": [
    {
     "name": "stdout",
     "output_type": "stream",
     "text": [
      "[('Monday', 12), ('Monday', 13), ('Monday', 14), ('Monday', 15), ('Monday', 16), ('Monday', 17), ('Wednesday', 12), ('Wednesday', 13), ('Wednesday', 14), ('Wednesday', 15), ('Wednesday', 16), ('Wednesday', 17)]\n"
     ]
    }
   ],
   "source": [
    "days = ('Monday','Tuesday','Wednesday','Thursday','Friday','Saturday','Sunday')\n",
    "hours = [10,11,12,13,14,15,16,17,18,19]\n",
    "\n",
    "available_days = ['Monday','Wednesday']\n",
    "available_hours = [12,13,14,15,16,17]\n",
    "\n",
    "\n",
    "combinations = [ (day, hour) for day in days for hour in hours if day in available_days and hour in available_hours]\n",
    "print (combinations)"
   ]
  },
  {
   "cell_type": "code",
   "execution_count": 30,
   "metadata": {},
   "outputs": [
    {
     "name": "stdout",
     "output_type": "stream",
     "text": [
      "[('Monday', 12), ('Monday', 13), ('Monday', 14), ('Monday', 15), ('Monday', 16), ('Monday', 17), ('Wednesday', 12), ('Wednesday', 13), ('Wednesday', 14), ('Wednesday', 15), ('Wednesday', 16), ('Wednesday', 17)]\n"
     ]
    }
   ],
   "source": [
    "days = ('Monday', 'Tuesday', 'Wednesday', 'Thursday', 'Friday', 'Saturday' , 'Sunday')\n",
    "hours = [10, 11, 12, 13, 14, 15, 16, 17, 18, 19]\n",
    "\n",
    "valid_days = [ 'Monday', 'Wednesday']\n",
    "valid_hours = [12, 13, 14, 15, 16, 17]\n",
    "\n",
    "combinations = [ (day, hour) for day in days for hour in hours if day in valid_days and hour in valid_hours ]\n",
    "print(combinations)"
   ]
  },
  {
   "cell_type": "code",
   "execution_count": 31,
   "metadata": {},
   "outputs": [
    {
     "name": "stdout",
     "output_type": "stream",
     "text": [
      "[15, 8, 148, 21]\n"
     ]
    }
   ],
   "source": [
    "my_list = [5,4,74,7]\n",
    "# [RESULT for STH in ITERABLE]\n",
    "mult = [number*2 if number % 2 == 0 else number*3 for number in my_list ]\n",
    "print(mult)"
   ]
  },
  {
   "cell_type": "code",
   "execution_count": 34,
   "metadata": {},
   "outputs": [
    {
     "name": "stdout",
     "output_type": "stream",
     "text": [
      "[1, 1, 1, 1, 1, 1]\n",
      "6\n"
     ]
    }
   ],
   "source": [
    "my_list = [5,4,74,7,4598,4163,4984,784,345,46968,36999]\n",
    "even = [1 for number in my_list if number %2 == 0 ]\n",
    "print (even)\n",
    "count_even = sum(even)\n",
    "print (count_even)"
   ]
  },
  {
   "cell_type": "markdown",
   "metadata": {},
   "source": [
    "# Dictionary "
   ]
  },
  {
   "cell_type": "code",
   "execution_count": 55,
   "metadata": {},
   "outputs": [],
   "source": [
    "my_dictionary = {   \n",
    "    'name':'Dovydas',\n",
    "    'year': 2008,\n",
    "    False: 'False',\n",
    "    5: 'five',\n",
    "    'hobbies': ['tennis', 'football']\n",
    "}"
   ]
  },
  {
   "cell_type": "code",
   "execution_count": 36,
   "metadata": {},
   "outputs": [
    {
     "data": {
      "text/plain": [
       "['tennis', 'football']"
      ]
     },
     "execution_count": 36,
     "metadata": {},
     "output_type": "execute_result"
    }
   ],
   "source": [
    "my_dictionary ['hobbies']"
   ]
  },
  {
   "cell_type": "code",
   "execution_count": 38,
   "metadata": {},
   "outputs": [
    {
     "name": "stdout",
     "output_type": "stream",
     "text": [
      "five\n"
     ]
    }
   ],
   "source": [
    "print(my_dictionary[5])"
   ]
  },
  {
   "cell_type": "code",
   "execution_count": 44,
   "metadata": {},
   "outputs": [
    {
     "name": "stdout",
     "output_type": "stream",
     "text": [
      "{'name': 'Dovydas', 'year': 2008, False: 'False', 5: 'five', 'hobbies': ['tennis', 'football'], 'city': 'Vilnius', 'key': 'value of key', 'sum': 10}\n",
      "{'name': 'Dovydas', 'year': 2008, False: 'False', 5: 'five', 'hobbies': ['tennis', 'football'], 'city': 'Kaunas', 'key': 'value of key', 'sum': 10}\n"
     ]
    }
   ],
   "source": [
    "my_dictionary ['city']= 'Vilnius'\n",
    "print (my_dictionary)\n",
    "my_dictionary ['city']= 'Kaunas'\n",
    "print (my_dictionary)"
   ]
  },
  {
   "cell_type": "code",
   "execution_count": null,
   "metadata": {},
   "outputs": [],
   "source": [
    "my_dictionary.copy()   #mutable"
   ]
  },
  {
   "cell_type": "code",
   "execution_count": 42,
   "metadata": {},
   "outputs": [
    {
     "name": "stdout",
     "output_type": "stream",
     "text": [
      "{'sum': 0, 'mult_sum': 0, 'div_sum': 0}\n"
     ]
    }
   ],
   "source": [
    "tmp_dictionary = dict.fromkeys (['sum','mult_sum','div_sum'],0)\n",
    "print(tmp_dictionary)"
   ]
  },
  {
   "cell_type": "code",
   "execution_count": 47,
   "metadata": {},
   "outputs": [
    {
     "name": "stdout",
     "output_type": "stream",
     "text": [
      "Kaunas\n",
      "Kaunas\n"
     ]
    }
   ],
   "source": [
    "print (my_dictionary.get('city'))\n",
    "print (my_dictionary['city'])\n"
   ]
  },
  {
   "cell_type": "code",
   "execution_count": null,
   "metadata": {},
   "outputs": [
    {
     "name": "stdout",
     "output_type": "stream",
     "text": [
      "False\n",
      "Dictionary does not contain 'address' info\n"
     ]
    }
   ],
   "source": [
    "# my_dictionary['address'] # gives an error\n",
    "print (my_dictionary.get('address', False) )\n",
    "if my_dictionary.get('address', False) == False:\n",
    "    print (\"Dictionary does not contain 'address' info\")"
   ]
  },
  {
   "cell_type": "code",
   "execution_count": 56,
   "metadata": {},
   "outputs": [
    {
     "name": "stdout",
     "output_type": "stream",
     "text": [
      "False\n",
      "Dictionary does not contain 'address' info\n"
     ]
    }
   ],
   "source": [
    "# my_dictionary['address'] # gives an error\n",
    "print (my_dictionary.get('address', False) )\n",
    "if my_dictionary.get('address', False) == False:\n",
    "    print (\"Dictionary does not contain 'address' info\")\n",
    "\n"
   ]
  },
  {
   "cell_type": "code",
   "execution_count": 59,
   "metadata": {},
   "outputs": [
    {
     "name": "stdout",
     "output_type": "stream",
     "text": [
      "{'name': 'Dovydas', 'year': 2008, False: 'False', 5: 'five', 'hobbies': ['tennis', 'football'], 'key': 'value of key', 'sum': 10, 'city': 'Vilnius'}\n"
     ]
    }
   ],
   "source": [
    "new_dict = {\n",
    "    'key': 'value of key',\n",
    "    'sum': 10,\n",
    "    'city': 'Vilnius'\n",
    "}\n",
    "\n",
    "my_dictionary.update(new_dict)\n",
    "print (my_dictionary)"
   ]
  },
  {
   "cell_type": "code",
   "execution_count": 60,
   "metadata": {},
   "outputs": [
    {
     "name": "stdout",
     "output_type": "stream",
     "text": [
      "key name has a value of Dovydas\n",
      "key year has a value of 2008\n",
      "key False has a value of False\n",
      "key 5 has a value of five\n",
      "key hobbies has a value of ['tennis', 'football']\n",
      "key key has a value of value of key\n",
      "key sum has a value of 10\n",
      "key city has a value of Vilnius\n"
     ]
    }
   ],
   "source": [
    "for key, value in my_dictionary.items(): # k, v\n",
    "    print (f'key {key} has a value of {value}')"
   ]
  }
 ],
 "metadata": {
  "interpreter": {
   "hash": "aee8b7b246df8f9039afb4144a1f6fd8d2ca17a180786b69acc140d282b71a49"
  },
  "kernelspec": {
   "display_name": "Python 3.10.0 64-bit",
   "language": "python",
   "name": "python3"
  },
  "language_info": {
   "codemirror_mode": {
    "name": "ipython",
    "version": 3
   },
   "file_extension": ".py",
   "mimetype": "text/x-python",
   "name": "python",
   "nbconvert_exporter": "python",
   "pygments_lexer": "ipython3",
   "version": "3.10.0"
  },
  "orig_nbformat": 4
 },
 "nbformat": 4,
 "nbformat_minor": 2
}
