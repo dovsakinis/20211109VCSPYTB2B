{
 "cells": [
  {
   "cell_type": "markdown",
   "metadata": {},
   "source": [
    "# 1. Let's enter 10 words, the program will answer such questions:\n",
    "\n",
    "- #### How many words are longer than 10 characters\n",
    "- #### Which word is the longest and shortest\n",
    "- #### Is even one-word palindrome, if so, what or what are those words"
   ]
  },
  {
   "cell_type": "code",
   "execution_count": 17,
   "metadata": {},
   "outputs": [
    {
     "name": "stdout",
     "output_type": "stream",
     "text": [
      "The number of words in the input list is: 10\n",
      "These 2 words form the input list are longer than 10 characters: ['simplification', 'extravagant'] \n",
      "Shortest word in the list: 'sky' and Longest word in the list 'simplification'\n",
      "These 1 words form the input list are palindromes: ['racecar'] \n"
     ]
    }
   ],
   "source": [
    "#Words = ['Hello','Sky','weather','school','lithuania','december','christmas','simplification','extravagant','racecar']\n",
    "#Hello Sky weather school lithuania december christmas simplification extravagant Racecar\n",
    "\n",
    "input_string = input(\"Enter a list of random 10 words separated by space\")\n",
    "Words  = input_string.split()\n",
    "\n",
    "if len(Words) <10:\n",
    "    print ('You have entered less than 10 words. Please Try again!')\n",
    "elif len(Words) >10:\n",
    "    print('You have entered more than 10 words. Please Try again!')\n",
    "\n",
    "for i in range(len(Words)):\n",
    "    Words[i] = Words[i].lower()\n",
    "\n",
    "\n",
    "print (f'The number of words in the input list is: {len(Words)}')\n",
    "\n",
    "#How many words are longer than 10 characters?\n",
    "long_words = []\n",
    "for i in Words:\n",
    "    if len(i) > 10:\n",
    "        long_words.append(i) \n",
    "print(f'These {len(long_words)} words form the input list are longer than 10 characters: {long_words} ')\n",
    "\n",
    "#Which word is the longest and shortest?\n",
    "shortest_word = min(Words, key=len)\n",
    "longest_word = max(Words, key=len)\n",
    "print(f\"Shortest word in the list: '{shortest_word}' and Longest word in the list '{longest_word}'\")\n",
    "\n",
    "\n",
    "#  Is even one-word palindrome, if so, what or what are those words?\n",
    "\n",
    "palindromes = []\n",
    "for word in Words:\n",
    "    if word == word[::-1]:\n",
    "        palindromes.append(word)\n",
    "print(f'These {len(palindromes)} words form the input list are palindromes: {palindromes} ')\n",
    "\n"
   ]
  },
  {
   "cell_type": "markdown",
   "metadata": {},
   "source": [
    "# 2. With a list, get the largest product of nearby numbers."
   ]
  },
  {
   "cell_type": "code",
   "execution_count": null,
   "metadata": {},
   "outputs": [],
   "source": [
    "my_list = [3, 6, -2, -5, 7, 3]\n",
    "\n",
    "max_mult = 0\n",
    "\n",
    "for i, j in zip(my_list, my_list[1:]):\n",
    "    mult = i * j\n",
    "    if mult > max_mult:\n",
    "        max_mult = mult\n",
    "\n",
    "print(f'Largest Product = {max_mult}, by multiplying {i} and {j}')  "
   ]
  },
  {
   "cell_type": "markdown",
   "metadata": {},
   "source": [
    "# 3. Find duplicate items between two lists."
   ]
  },
  {
   "cell_type": "code",
   "execution_count": null,
   "metadata": {},
   "outputs": [],
   "source": [
    "a = [1,2,3,4,5,6,7,8,9,15]\n",
    "b = [3,8,9,11,15]\n",
    "\n",
    "set_a = set(a)\n",
    "set_b = set(b)\n",
    "\n",
    "print(f'Duplicate items between two lists: {sorted(set_a.intersection(set_b))}')"
   ]
  },
  {
   "cell_type": "markdown",
   "metadata": {},
   "source": [
    "# 4. Filter out unique positive numbers from the list."
   ]
  },
  {
   "cell_type": "code",
   "execution_count": null,
   "metadata": {},
   "outputs": [],
   "source": [
    "x = [1, 5, 1, 2, 8, -9, 10, 1, -8, -900, 14, 5, -8, 2, 1, -20, 900, 800, -6, -8, 12, 1]  \n",
    "\n",
    "output = []\n",
    "print(f'Original numbers in the list: {x}')\n",
    "\n",
    "for pos_numbers in x:\n",
    "   if pos_numbers > 0:\n",
    "       output.append(pos_numbers)\n",
    "print(f'Positive numbers in the list: {output}')"
   ]
  },
  {
   "cell_type": "markdown",
   "metadata": {},
   "source": [
    "# 5. Calculate the profit on the sale of all goods. \n",
    "\n",
    "### Price and quantity information is provided as a dictionary, the answer rounded to 2 decimal places (use round() function)"
   ]
  },
  {
   "cell_type": "code",
   "execution_count": null,
   "metadata": {},
   "outputs": [],
   "source": [
    "x = { \n",
    "    \"cost_price\": 32.67,\n",
    "    \"sell_price\": 45.00,\n",
    "    \"inventory\": 1200      \n",
    "}\n",
    "revenue = x[\"sell_price\"] * x[\"inventory\"]\n",
    "cost = x[\"cost_price\"] * x[\"inventory\"]\n",
    "profit = round(revenue - cost,2)\n",
    "#print(revenue)\n",
    "#print(cost)\n",
    "print(f'Profit on the sale of all goods: ${profit}')\n",
    "\n",
    "\n",
    "\n"
   ]
  }
 ],
 "metadata": {
  "interpreter": {
   "hash": "aee8b7b246df8f9039afb4144a1f6fd8d2ca17a180786b69acc140d282b71a49"
  },
  "kernelspec": {
   "display_name": "Python 3.10.0 64-bit",
   "language": "python",
   "name": "python3"
  },
  "language_info": {
   "codemirror_mode": {
    "name": "ipython",
    "version": 3
   },
   "file_extension": ".py",
   "mimetype": "text/x-python",
   "name": "python",
   "nbconvert_exporter": "python",
   "pygments_lexer": "ipython3",
   "version": "3.10.0"
  },
  "orig_nbformat": 4
 },
 "nbformat": 4,
 "nbformat_minor": 2
}
