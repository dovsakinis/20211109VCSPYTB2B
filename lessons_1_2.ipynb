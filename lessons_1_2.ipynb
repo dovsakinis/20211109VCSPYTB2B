{
 "cells": [
  {
   "cell_type": "code",
   "execution_count": 1,
   "metadata": {},
   "outputs": [
    {
     "name": "stdout",
     "output_type": "stream",
     "text": [
      "Dovydas\n"
     ]
    }
   ],
   "source": [
    "my_name = 'Dovydas'\n",
    "\n",
    "print ( my_name )\n",
    "\n"
   ]
  },
  {
   "cell_type": "code",
   "execution_count": 3,
   "metadata": {},
   "outputs": [],
   "source": [
    "x = 5\n",
    "y= 13"
   ]
  },
  {
   "cell_type": "code",
   "execution_count": 4,
   "metadata": {},
   "outputs": [
    {
     "name": "stdout",
     "output_type": "stream",
     "text": [
      "18\n"
     ]
    }
   ],
   "source": [
    "print (x+y)"
   ]
  },
  {
   "cell_type": "code",
   "execution_count": 18,
   "metadata": {},
   "outputs": [
    {
     "data": {
      "text/plain": [
       "' '"
      ]
     },
     "execution_count": 18,
     "metadata": {},
     "output_type": "execute_result"
    }
   ],
   "source": [
    "my_name = 'Dovydas'\n",
    "my_surname = 'Sakinis'\n",
    "\n",
    "\"hello world\" [5]"
   ]
  },
  {
   "cell_type": "code",
   "execution_count": 11,
   "metadata": {},
   "outputs": [
    {
     "name": "stdout",
     "output_type": "stream",
     "text": [
      "McDonald's\n",
      "McDonald's\n",
      "McDonald's\n"
     ]
    }
   ],
   "source": [
    "# Option 1\n",
    "my_text = \"McDonald's\"\n",
    "print (my_text)\n",
    "\n",
    "# Option 2\n",
    "my_text = 'McDonald\\'s'\n",
    "print (my_text)\n",
    "\n",
    "# Option 3\n",
    "my_text = \"\"\"McDonald's\"\"\"\n",
    "print (my_text)"
   ]
  },
  {
   "cell_type": "code",
   "execution_count": 15,
   "metadata": {},
   "outputs": [
    {
     "name": "stdout",
     "output_type": "stream",
     "text": [
      "Some text \n",
      "new line Text\n",
      "\n",
      "Some Text\n",
      "new line Text\n",
      "more text\n",
      "hello\n",
      "\n"
     ]
    }
   ],
   "source": [
    "some_text = 'Some text \\nnew line Text' # \\n - New line\n",
    "\n",
    "print (some_text)\n",
    "\n",
    "some_text = \"\"\"\n",
    "Some Text\n",
    "new line Text\n",
    "more text\n",
    "hello\n",
    "\"\"\"\n",
    "print (some_text)"
   ]
  },
  {
   "cell_type": "code",
   "execution_count": 16,
   "metadata": {},
   "outputs": [
    {
     "name": "stdout",
     "output_type": "stream",
     "text": [
      "The Zen of Python, by Tim Peters\n",
      "\n",
      "Beautiful is better than ugly.\n",
      "Explicit is better than implicit.\n",
      "Simple is better than complex.\n",
      "Complex is better than complicated.\n",
      "Flat is better than nested.\n",
      "Sparse is better than dense.\n",
      "Readability counts.\n",
      "Special cases aren't special enough to break the rules.\n",
      "Although practicality beats purity.\n",
      "Errors should never pass silently.\n",
      "Unless explicitly silenced.\n",
      "In the face of ambiguity, refuse the temptation to guess.\n",
      "There should be one-- and preferably only one --obvious way to do it.\n",
      "Although that way may not be obvious at first unless you're Dutch.\n",
      "Now is better than never.\n",
      "Although never is often better than *right* now.\n",
      "If the implementation is hard to explain, it's a bad idea.\n",
      "If the implementation is easy to explain, it may be a good idea.\n",
      "Namespaces are one honking great idea -- let's do more of those!\n"
     ]
    }
   ],
   "source": [
    "import this"
   ]
  },
  {
   "cell_type": "code",
   "execution_count": 24,
   "metadata": {},
   "outputs": [
    {
     "name": "stdout",
     "output_type": "stream",
     "text": [
      "Dovydas\n",
      "Sakinis\n",
      "Dovydas Sakinis\n",
      "DovydasDovydas\n"
     ]
    }
   ],
   "source": [
    "print (my_name)\n",
    "print (my_surname)\n",
    "print (my_name + ' ' + my_surname)\n",
    "print (my_name * 2) "
   ]
  },
  {
   "cell_type": "code",
   "execution_count": 28,
   "metadata": {},
   "outputs": [
    {
     "name": "stdout",
     "output_type": "stream",
     "text": [
      "My name is Dovydas Sakinis\n",
      "My name is Dovydas Sakinis\n",
      "My name is Dovydas Sakinis\n"
     ]
    }
   ],
   "source": [
    "print ( 'My name is ' + my_name + ' ' + my_surname)\n",
    "print ( 'My name is',my_name , my_surname)\n",
    "\n",
    "# f-string\n",
    "print(f'My name is {my_name} {my_surname}') # preferred way of formatting"
   ]
  },
  {
   "cell_type": "code",
   "execution_count": 43,
   "metadata": {},
   "outputs": [
    {
     "name": "stdout",
     "output_type": "stream",
     "text": [
      "learn Python!\n",
      "learn\n",
      "d  mvrffsfsldldfsfkdk er\n",
      "!nohtyP nrael lkjdskjfdsjfkdslfdslfsdfjsdfsfyrev ma I ,dlroW olleH\n",
      "11\n"
     ]
    },
    {
     "ename": "NameError",
     "evalue": "name 'capitalize' is not defined",
     "output_type": "error",
     "traceback": [
      "\u001b[0;31m---------------------------------------------------------------------------\u001b[0m",
      "\u001b[0;31mNameError\u001b[0m                                 Traceback (most recent call last)",
      "\u001b[0;32m/var/folders/8h/xyh9yyrs4_q9_9b6lf8x2c1r0000gn/T/ipykernel_89678/32445800.py\u001b[0m in \u001b[0;36m<module>\u001b[0;34m\u001b[0m\n\u001b[1;32m     12\u001b[0m \u001b[0mprint\u001b[0m \u001b[0;34m(\u001b[0m\u001b[0msentence\u001b[0m\u001b[0;34m.\u001b[0m\u001b[0mfind\u001b[0m\u001b[0;34m(\u001b[0m\u001b[0;34m','\u001b[0m\u001b[0;34m)\u001b[0m\u001b[0;34m)\u001b[0m\u001b[0;34m\u001b[0m\u001b[0;34m\u001b[0m\u001b[0m\n\u001b[1;32m     13\u001b[0m \u001b[0;34m\u001b[0m\u001b[0m\n\u001b[0;32m---> 14\u001b[0;31m \u001b[0mcapitalize\u001b[0m \u001b[0;34m(\u001b[0m\u001b[0msentence\u001b[0m\u001b[0;34m[\u001b[0m\u001b[0;34m:\u001b[0m\u001b[0msentence\u001b[0m\u001b[0;34m.\u001b[0m\u001b[0mfind\u001b[0m\u001b[0;34m(\u001b[0m\u001b[0;34m','\u001b[0m\u001b[0;34m)\u001b[0m\u001b[0;34m]\u001b[0m\u001b[0;34m)\u001b[0m\u001b[0;34m\u001b[0m\u001b[0;34m\u001b[0m\u001b[0m\n\u001b[0m",
      "\u001b[0;31mNameError\u001b[0m: name 'capitalize' is not defined"
     ]
    }
   ],
   "source": [
    "# slicing\n",
    "sentence = 'Hello World, I am veryfsfdsjfdsflsdflsdkfjsdfjksdjkl learn Python!'\n",
    "\n",
    "sentence[0]\n",
    "print (sentence[53:])\n",
    "print (sentence[53:58])\n",
    "\n",
    "print (sentence[10:58:2])   #[start:end:step]\n",
    "\n",
    "print (sentence[::-1]) \n",
    "\n",
    "print (sentence.find(','))\n",
    "\n",
    "\n"
   ]
  },
  {
   "cell_type": "code",
   "execution_count": 49,
   "metadata": {},
   "outputs": [
    {
     "data": {
      "text/plain": [
       "'PAUKSTIS'"
      ]
     },
     "execution_count": 49,
     "metadata": {},
     "output_type": "execute_result"
    }
   ],
   "source": [
    "my_text = 'paukstis'\n",
    "my_text.capitalize ()\n",
    "my_text.upper ()"
   ]
  },
  {
   "cell_type": "code",
   "execution_count": 58,
   "metadata": {},
   "outputs": [
    {
     "name": "stdout",
     "output_type": "stream",
     "text": [
      "Hello World, I am very happy to learn Python!\n",
      "Hello World, I am veryfsfdsjfdsflsdflsdkfjsdfjksdjkl learn Python!\n",
      "Hello World, I am very happy to learn Python!\n"
     ]
    }
   ],
   "source": [
    "sentence = 'Hello World, I am veryfsfdsjfdsflsdflsdkfjsdfjksdjkl learn Python!'\n",
    "print(sentence.replace('veryfsfdsjfdsflsdflsdkfjsdfjksdjkl','very happy to'))\n",
    "print (sentence)\n",
    "\n",
    "sentence = sentence.replace('veryfsfdsjfdsflsdflsdkfjsdfjksdjkl','very happy to')\n",
    "print(sentence)"
   ]
  },
  {
   "cell_type": "code",
   "execution_count": 62,
   "metadata": {},
   "outputs": [
    {
     "name": "stdout",
     "output_type": "stream",
     "text": [
      "My name is Dovydas Sakinis\n"
     ]
    }
   ],
   "source": [
    "my_name = 'Dovydas'\n",
    "my_surname = \"Sakinis\"\n",
    "\n",
    "print (f'My name is {my_name} {my_surname}')"
   ]
  },
  {
   "cell_type": "code",
   "execution_count": 67,
   "metadata": {},
   "outputs": [
    {
     "name": "stdout",
     "output_type": "stream",
     "text": [
      "PYTHON MAKES ME REALLY REAALLY HAPPY!\n",
      "PyTHon makes me really reaally happy!\n"
     ]
    }
   ],
   "source": [
    "my_string = 'Python makes me really reaally happy!'\n",
    "print (my_string.upper())\n",
    "\n",
    "print(my_string.replace('Python','PyTHon'))"
   ]
  },
  {
   "cell_type": "code",
   "execution_count": 81,
   "metadata": {},
   "outputs": [
    {
     "name": "stdout",
     "output_type": "stream",
     "text": [
      "24\n",
      "to\n",
      "40\n"
     ]
    }
   ],
   "source": [
    "my_string = 'Hello World, I am happy to learn Python!'\n",
    "word_to_find = 'to'\n",
    "print(my_string.index(word_to_find))\n",
    "\n",
    "\n",
    "print(my_string[my_string.index(word_to_find) : my_string.index(word_to_find) +len(word_to_find) ] )\n",
    "\n",
    "print (len(my_string))"
   ]
  }
 ],
 "metadata": {
  "interpreter": {
   "hash": "aee8b7b246df8f9039afb4144a1f6fd8d2ca17a180786b69acc140d282b71a49"
  },
  "kernelspec": {
   "display_name": "Python 3.10.0 64-bit",
   "language": "python",
   "name": "python3"
  },
  "language_info": {
   "codemirror_mode": {
    "name": "ipython",
    "version": 3
   },
   "file_extension": ".py",
   "mimetype": "text/x-python",
   "name": "python",
   "nbconvert_exporter": "python",
   "pygments_lexer": "ipython3",
   "version": "3.10.0"
  },
  "orig_nbformat": 4
 },
 "nbformat": 4,
 "nbformat_minor": 2
}
