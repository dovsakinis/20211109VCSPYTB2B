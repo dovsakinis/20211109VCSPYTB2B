{
 "cells": [
  {
   "cell_type": "markdown",
   "metadata": {},
   "source": [
    "# Homework 3"
   ]
  },
  {
   "cell_type": "markdown",
   "metadata": {},
   "source": [
    "## 1.\n",
    "From the first 100 numbers, if the number is divisible by 2 without a residue, print ‘Fizz’, \n",
    "if the number is divisible by 3 without a residue, print ‘Buzz’, \n",
    "if the number is divisible by 2 and 3 without a residue, print ‘FizzBuzz’"
   ]
  },
  {
   "cell_type": "code",
   "execution_count": 13,
   "metadata": {},
   "outputs": [
    {
     "name": "stdout",
     "output_type": "stream",
     "text": [
      "FizzBuzz\n",
      "1\n",
      "Fizz\n",
      "Buzz\n",
      "Fizz\n",
      "5\n",
      "FizzBuzz\n",
      "7\n",
      "Fizz\n",
      "Buzz\n",
      "Fizz\n",
      "11\n",
      "FizzBuzz\n",
      "13\n",
      "Fizz\n",
      "Buzz\n",
      "Fizz\n",
      "17\n",
      "FizzBuzz\n",
      "19\n",
      "Fizz\n",
      "Buzz\n",
      "Fizz\n",
      "23\n",
      "FizzBuzz\n",
      "25\n",
      "Fizz\n",
      "Buzz\n",
      "Fizz\n",
      "29\n",
      "FizzBuzz\n",
      "31\n",
      "Fizz\n",
      "Buzz\n",
      "Fizz\n",
      "35\n",
      "FizzBuzz\n",
      "37\n",
      "Fizz\n",
      "Buzz\n",
      "Fizz\n",
      "41\n",
      "FizzBuzz\n",
      "43\n",
      "Fizz\n",
      "Buzz\n",
      "Fizz\n",
      "47\n",
      "FizzBuzz\n",
      "49\n",
      "Fizz\n",
      "Buzz\n",
      "Fizz\n",
      "53\n",
      "FizzBuzz\n",
      "55\n",
      "Fizz\n",
      "Buzz\n",
      "Fizz\n",
      "59\n",
      "FizzBuzz\n",
      "61\n",
      "Fizz\n",
      "Buzz\n",
      "Fizz\n",
      "65\n",
      "FizzBuzz\n",
      "67\n",
      "Fizz\n",
      "Buzz\n",
      "Fizz\n",
      "71\n",
      "FizzBuzz\n",
      "73\n",
      "Fizz\n",
      "Buzz\n",
      "Fizz\n",
      "77\n",
      "FizzBuzz\n",
      "79\n",
      "Fizz\n",
      "Buzz\n",
      "Fizz\n",
      "83\n",
      "FizzBuzz\n",
      "85\n",
      "Fizz\n",
      "Buzz\n",
      "Fizz\n",
      "89\n",
      "FizzBuzz\n",
      "91\n",
      "Fizz\n",
      "Buzz\n",
      "Fizz\n",
      "95\n",
      "FizzBuzz\n",
      "97\n",
      "Fizz\n",
      "Buzz\n",
      "Fizz\n"
     ]
    }
   ],
   "source": [
    "for numbers in range(101):\n",
    "    if numbers % 3 == 0 and numbers % 2 == 0:\n",
    "        print(\"FizzBuzz\")\n",
    "        continue\n",
    "    elif numbers % 2 == 0:\n",
    "        print(\"Fizz\")\n",
    "        continue\n",
    "    elif numbers % 3 == 0:\n",
    "        print(\"Buzz\")\n",
    "        continue\n",
    "    print(numbers)"
   ]
  },
  {
   "cell_type": "markdown",
   "metadata": {},
   "source": [
    "## 2.\n",
    "Let's choose a number (input()), if the number entered is greater than or equal to 10, \n",
    "print all numbers (from 1 to that number) that divide by 5 with the a remainder. Otherwise do nothing"
   ]
  },
  {
   "cell_type": "code",
   "execution_count": 14,
   "metadata": {},
   "outputs": [
    {
     "name": "stdout",
     "output_type": "stream",
     "text": [
      "1\n",
      "2\n",
      "3\n",
      "4\n",
      "6\n",
      "7\n",
      "8\n",
      "9\n",
      "11\n",
      "12\n",
      "13\n",
      "14\n",
      "16\n",
      "17\n",
      "18\n",
      "19\n",
      "21\n",
      "22\n",
      "23\n",
      "24\n",
      "26\n",
      "27\n",
      "28\n",
      "29\n",
      "31\n",
      "32\n",
      "33\n",
      "34\n",
      "36\n",
      "37\n",
      "38\n",
      "39\n",
      "41\n",
      "42\n",
      "43\n",
      "44\n",
      "46\n",
      "47\n",
      "48\n",
      "49\n",
      "51\n",
      "52\n",
      "53\n",
      "54\n",
      "56\n",
      "57\n",
      "58\n",
      "59\n",
      "61\n",
      "62\n",
      "63\n",
      "64\n",
      "66\n",
      "67\n",
      "68\n"
     ]
    }
   ],
   "source": [
    "user_input = input('Enter a number')\n",
    "user_number = int(user_input)\n",
    "if user_number not in range(1,10):\n",
    "    for i in range(1,user_number +1):\n",
    "        if  i % 5 !=0:\n",
    "            print(i)"
   ]
  },
  {
   "cell_type": "markdown",
   "metadata": {},
   "source": [
    "## 3. \n",
    "What is the length of a list made up of combinations of lists provided if we want to find all possible values? Sort the list from highest to lowest."
   ]
  },
  {
   "cell_type": "code",
   "execution_count": 42,
   "metadata": {},
   "outputs": [
    {
     "name": "stdout",
     "output_type": "stream",
     "text": [
      "The length of the list is: 100\n",
      "[('5', 'what a beautiful day', '40'), ('5', 'what a beautiful day', '200'), ('5', 'what a beautiful day', '100'), ('5', 'what a beautiful day', '10'), ('5', 'weather', '40'), ('5', 'weather', '200'), ('5', 'weather', '100'), ('5', 'weather', '10'), ('5', 'hi', '40'), ('5', 'hi', '200'), ('5', 'hi', '100'), ('5', 'hi', '10'), ('5', 'evening', '40'), ('5', 'evening', '200'), ('5', 'evening', '100'), ('5', 'evening', '10'), ('5', '10 degrees outside', '40'), ('5', '10 degrees outside', '200'), ('5', '10 degrees outside', '100'), ('5', '10 degrees outside', '10'), ('4', 'what a beautiful day', '40'), ('4', 'what a beautiful day', '200'), ('4', 'what a beautiful day', '100'), ('4', 'what a beautiful day', '10'), ('4', 'weather', '40'), ('4', 'weather', '200'), ('4', 'weather', '100'), ('4', 'weather', '10'), ('4', 'hi', '40'), ('4', 'hi', '200'), ('4', 'hi', '100'), ('4', 'hi', '10'), ('4', 'evening', '40'), ('4', 'evening', '200'), ('4', 'evening', '100'), ('4', 'evening', '10'), ('4', '10 degrees outside', '40'), ('4', '10 degrees outside', '200'), ('4', '10 degrees outside', '100'), ('4', '10 degrees outside', '10'), ('3', 'what a beautiful day', '40'), ('3', 'what a beautiful day', '200'), ('3', 'what a beautiful day', '100'), ('3', 'what a beautiful day', '10'), ('3', 'weather', '40'), ('3', 'weather', '200'), ('3', 'weather', '100'), ('3', 'weather', '10'), ('3', 'hi', '40'), ('3', 'hi', '200'), ('3', 'hi', '100'), ('3', 'hi', '10'), ('3', 'evening', '40'), ('3', 'evening', '200'), ('3', 'evening', '100'), ('3', 'evening', '10'), ('3', '10 degrees outside', '40'), ('3', '10 degrees outside', '200'), ('3', '10 degrees outside', '100'), ('3', '10 degrees outside', '10'), ('2', 'what a beautiful day', '40'), ('2', 'what a beautiful day', '200'), ('2', 'what a beautiful day', '100'), ('2', 'what a beautiful day', '10'), ('2', 'weather', '40'), ('2', 'weather', '200'), ('2', 'weather', '100'), ('2', 'weather', '10'), ('2', 'hi', '40'), ('2', 'hi', '200'), ('2', 'hi', '100'), ('2', 'hi', '10'), ('2', 'evening', '40'), ('2', 'evening', '200'), ('2', 'evening', '100'), ('2', 'evening', '10'), ('2', '10 degrees outside', '40'), ('2', '10 degrees outside', '200'), ('2', '10 degrees outside', '100'), ('2', '10 degrees outside', '10'), ('1', 'what a beautiful day', '40'), ('1', 'what a beautiful day', '200'), ('1', 'what a beautiful day', '100'), ('1', 'what a beautiful day', '10'), ('1', 'weather', '40'), ('1', 'weather', '200'), ('1', 'weather', '100'), ('1', 'weather', '10'), ('1', 'hi', '40'), ('1', 'hi', '200'), ('1', 'hi', '100'), ('1', 'hi', '10'), ('1', 'evening', '40'), ('1', 'evening', '200'), ('1', 'evening', '100'), ('1', 'evening', '10'), ('1', '10 degrees outside', '40'), ('1', '10 degrees outside', '200'), ('1', '10 degrees outside', '100'), ('1', '10 degrees outside', '10')]\n"
     ]
    }
   ],
   "source": [
    "list_a = ['1','2','3','4','5']\n",
    "list_b = ['hi', 'evening', 'what a beautiful day', 'weather', '10 degrees outside']\n",
    "list_c = ['100', '200', 40, 10]\n",
    "\n",
    "#function to convert int to str in a list to help sorting later\n",
    "list_c= [str(x) for x in list_c]\n",
    "\n",
    "# combinations logic\n",
    "combinations = []\n",
    "for a in list_a:\n",
    "    for b in list_b:\n",
    "        for c in list_c:\n",
    "            combinations.append((a,b,c))\n",
    "print(\"The length of the list is:\", len(combinations))\n",
    "\n",
    "#sorting logic\n",
    "combinations.sort(reverse=True)\n",
    "print(combinations)\n",
    "\n",
    "\n",
    "\n",
    "\n"
   ]
  }
 ],
 "metadata": {
  "interpreter": {
   "hash": "aee8b7b246df8f9039afb4144a1f6fd8d2ca17a180786b69acc140d282b71a49"
  },
  "kernelspec": {
   "display_name": "Python 3.10.0 64-bit",
   "language": "python",
   "name": "python3"
  },
  "language_info": {
   "codemirror_mode": {
    "name": "ipython",
    "version": 3
   },
   "file_extension": ".py",
   "mimetype": "text/x-python",
   "name": "python",
   "nbconvert_exporter": "python",
   "pygments_lexer": "ipython3",
   "version": "3.10.0"
  },
  "orig_nbformat": 4
 },
 "nbformat": 4,
 "nbformat_minor": 2
}
