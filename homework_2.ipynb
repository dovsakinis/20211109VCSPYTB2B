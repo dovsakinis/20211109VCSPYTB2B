{
 "cells": [
  {
   "cell_type": "markdown",
   "metadata": {},
   "source": [
    "# List tasks"
   ]
  },
  {
   "cell_type": "code",
   "execution_count": 5,
   "metadata": {},
   "outputs": [
    {
     "name": "stdout",
     "output_type": "stream",
     "text": [
      "[1, 2, 3, 4]\n",
      "4\n"
     ]
    }
   ],
   "source": [
    "#Declare list type variable, get its length, add a new element\n",
    "my_list = [1,2,3]\n",
    "my_list.append(4)\n",
    "print(my_list)\n",
    "print(len(my_list))"
   ]
  },
  {
   "cell_type": "code",
   "execution_count": 6,
   "metadata": {},
   "outputs": [
    {
     "name": "stdout",
     "output_type": "stream",
     "text": [
      "True\n"
     ]
    }
   ],
   "source": [
    "#Check if the item is on your list\n",
    "my_list = [1,2,3,4,5,6,7,8,9,10]\n",
    "print (5 in my_list)\n"
   ]
  },
  {
   "cell_type": "code",
   "execution_count": 37,
   "metadata": {},
   "outputs": [
    {
     "name": "stdout",
     "output_type": "stream",
     "text": [
      "Added two lists: ['a', 'b', 'c', 'd', 'e', 'f']\n",
      "Removed the last member from my list: ['a', 'b', 'c', 'd', 'e']\n",
      "Sorted the list (descending): ['e', 'd', 'c', 'b', 'a']\n",
      "Counted how many a's there are in the list: 1\n"
     ]
    }
   ],
   "source": [
    "#Add two lists, remove the last member from your list, sort the list, count how many entries there are in the list\n",
    "\n",
    "list_a = ['a','b','c']\n",
    "list_b = ['d','e','f']\n",
    "list_ab = list_a + list_b\n",
    "print (f'Added two lists: {list_ab}')\n",
    "\n",
    "list_ab.pop()\n",
    "print(f'Removed the last member from my list: {list_ab}')\n",
    "\n",
    "list_ab.sort(reverse=True)\n",
    "print(f'Sorted the list (descending): {list_ab}')\n",
    "\n",
    "print(f\"Counted how many a's there are in the list: {list_ab.count('a')}\")"
   ]
  },
  {
   "cell_type": "markdown",
   "metadata": {},
   "source": [
    "# Tuple Tasks"
   ]
  },
  {
   "cell_type": "code",
   "execution_count": 68,
   "metadata": {},
   "outputs": [
    {
     "name": "stdout",
     "output_type": "stream",
     "text": [
      "Added two tuples: (1, 2, 3, 4, 5, 6)\n",
      "Removed the last member from the first tuple: (1, 2)\n",
      "Counted how many instances of 1 exists in my tuple: 1\n",
      "Counted how many instances of 2 exists in my tuple: 1\n",
      "Counted how many instances of 3 exists in my tuple: 1\n",
      "Counted how many instances of 4 exists in my tuple: 1\n",
      "Counted how many instances of 5 exists in my tuple: 1\n",
      "Found the largest value in tuple: 6\n"
     ]
    },
    {
     "data": {
      "text/plain": [
       "(1, 6)"
      ]
     },
     "execution_count": 68,
     "metadata": {},
     "output_type": "execute_result"
    }
   ],
   "source": [
    "#Add two tuples, remove the last member from the first tuple, line up the tuple, count how many instances of each value \n",
    "# exists in the tuple, find the largest value\n",
    "\n",
    "tuple_1 = (1,2,3)\n",
    "tuple_2 = (4,5,6)\n",
    "tuple_3 = tuple_1 + tuple_2\n",
    "print(f'Added two tuples: {tuple_3}')\n",
    "\n",
    "tmp_list = list(tuple_1)\n",
    "tmp_list.pop()\n",
    "tuple_1 = tuple(tmp_list)\n",
    "print (f'Removed the last member from the first tuple: {tuple_1}')\n",
    "\n",
    "\n",
    "for i in list(range(tuple_3[0],tuple_3[-1])):\n",
    "    print(f'Counted how many instances of {i} exists in my tuple: {tuple_3.count(i)}')\n",
    "\n",
    "\n",
    "print(f'Found the largest value in tuple: {max(tuple_3)}')\n"
   ]
  },
  {
   "cell_type": "markdown",
   "metadata": {},
   "source": [
    "# For Loop Tasks"
   ]
  },
  {
   "cell_type": "code",
   "execution_count": 78,
   "metadata": {},
   "outputs": [
    {
     "name": "stdout",
     "output_type": "stream",
     "text": [
      "Printed the first 10 inclusive numbers using for loop:\n",
      "1\n",
      "2\n",
      "3\n",
      "4\n",
      "5\n",
      "6\n",
      "7\n",
      "8\n",
      "9\n",
      "10\n",
      "Got the sum of the first 50 numbers inclusive: 1275\n"
     ]
    }
   ],
   "source": [
    "#Print the first 10 inclusive numbers using for loop\n",
    "print ('Printed the first 10 inclusive numbers using for loop:')\n",
    "for i in range(1, 11):\n",
    "    print(i)\n",
    "\n",
    "\n",
    "#Get the sum of the first 50 numbers inclusive\n",
    "sum = 0 \n",
    "for i in range(1,51): \n",
    "\tsum += i \n",
    "print(f'Got the sum of the first 50 numbers inclusive: {sum}')"
   ]
  }
 ],
 "metadata": {
  "interpreter": {
   "hash": "aee8b7b246df8f9039afb4144a1f6fd8d2ca17a180786b69acc140d282b71a49"
  },
  "kernelspec": {
   "display_name": "Python 3.10.0 64-bit",
   "language": "python",
   "name": "python3"
  },
  "language_info": {
   "codemirror_mode": {
    "name": "ipython",
    "version": 3
   },
   "file_extension": ".py",
   "mimetype": "text/x-python",
   "name": "python",
   "nbconvert_exporter": "python",
   "pygments_lexer": "ipython3",
   "version": "3.10.0"
  },
  "orig_nbformat": 4
 },
 "nbformat": 4,
 "nbformat_minor": 2
}
