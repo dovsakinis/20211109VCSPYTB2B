{
 "cells": [
  {
   "cell_type": "markdown",
   "metadata": {},
   "source": [
    "# 1.\n",
    "Write a function that accepts two variables of list type, removes all values greater than 10 from the first filter, leaves only values with at least two digits in the second, sum the values of the first list, sum the values of the second, return the product of the two modified lists."
   ]
  },
  {
   "cell_type": "code",
   "execution_count": 40,
   "metadata": {},
   "outputs": [],
   "source": [
    "#functionExercise([10,9,6,16,15,55,2,7],[20,642,33,76,9,7,2])\n",
    "\n",
    "#result: 74016\n",
    "\n",
    "def functionExercise (list1, list2):\n",
    "    list1 = [number for number in list1 if number < 10]\n",
    "    sum1 = sum(list1)\n",
    "\n",
    "    list2 = [number for number in list2 if number > 10]\n",
    "    sum2 = sum(list2)\n",
    "\n",
    "    #print(list1)\n",
    "    #print(list2)\n",
    "    #print(sum1)\n",
    "    #print(sum2)\n",
    "\n",
    "    result = sum1 * sum2\n",
    "    return print(f'The Product of this super weird function is: {result}')\n"
   ]
  },
  {
   "cell_type": "code",
   "execution_count": 39,
   "metadata": {},
   "outputs": [
    {
     "name": "stdout",
     "output_type": "stream",
     "text": [
      "[9, 6, 2, 7]\n",
      "[20, 642, 33, 76]\n",
      "24\n",
      "771\n",
      "The Product of this super weird function is: 18504\n"
     ]
    }
   ],
   "source": [
    "functionExercise([10,9,6,16,15,55,2,7],[20,642,33,76,9,7,2])"
   ]
  },
  {
   "cell_type": "markdown",
   "metadata": {},
   "source": [
    "# 2. \n",
    "\n",
    "Write a function that will accept 4 arguments, three int type, the fourth string, for example (4, 4, 5, 'square') we will get the perimeter, area and volume of the square, come up with calculations for another figure, if the provided shape does not exist, return text that you don’t know this shape\n",
    "\n",
    "\n",
    "Calculator (length = 4, width = 3, height = 5, shape = ‘cuboid’)\n",
    "Should print:\n",
    "'Perimeter is 48, Area is 12, Volume is 60'\n",
    "\n",
    "Perimeter = 4 * (4 + 3 + 5)\n",
    "Area = 2 * ( 4*3 + 4*5 + 3*5 )\n",
    "Volume = 4 * 3 * 5\n",
    "\n",
    "Calculator (4,3,5, ‘cone’)\n",
    "‘I don’t know shape - cone. Aborting’\n",
    "\n",
    "Calculator (4,3,5, ‘sphere’)\n",
    "Perimeter = 2 * 3.14 * 4\n",
    "Area = 3 * 3.14 * 4^2\n",
    "Volume = 4/3 * 3.14 * 4^3"
   ]
  },
  {
   "cell_type": "code",
   "execution_count": 41,
   "metadata": {},
   "outputs": [],
   "source": [
    "import math\n",
    "\n",
    "def shape_calculator (l,w, h,shape):\n",
    "   # if shape == 'square' and l!= h:\n",
    "    supported_shapes =['cube','cylinder','sphere','cuboid']\n",
    "    if shape not in supported_shapes:\n",
    "        print (f'I don’t know shape - {shape}. We only support {supported_shapes}. Aborting. ')\n",
    "    if shape == 'cube':\n",
    "        p = 4 * (l + w + h)\n",
    "        a = 2 * ((l * w) + (l * h) + (w * h))\n",
    "        v = l * w * h\n",
    "    elif shape == 'cuboid':\n",
    "        p = 4 * (l + w + h)\n",
    "        a = 2 * ((l * w) + (l * h) + (w * h))\n",
    "        v = l * w * h\n",
    "    elif shape == 'cylinder':\n",
    "        r= l/2 or w/2\n",
    "        p = round(2 * math.pi * r,2)\n",
    "        a = round((2 * math.pi * r**2) + (2 * math.pi * r * h),2)\n",
    "        v = round(math.pi * r**2 * h,2)\n",
    "    elif shape == 'sphere':\n",
    "        r= l/2 or w/2\n",
    "        p = round(2 * math.pi * r,2)\n",
    "        a = round((4 * math.pi * (r**2)),2)\n",
    "        v = round( 4/3 * math.pi * r**3,2)\n",
    "        print(f'For given {shape} shape: Perimeter is {p}, Area is {a}, Volume is {v}')"
   ]
  },
  {
   "cell_type": "code",
   "execution_count": 42,
   "metadata": {},
   "outputs": [
    {
     "name": "stdout",
     "output_type": "stream",
     "text": [
      "I don’t know shape - cone. We only support ['cube', 'cylinder', 'sphere', 'cuboid']. Aborting. \n"
     ]
    }
   ],
   "source": [
    "shape_calculator (6,6,4,'cone')"
   ]
  },
  {
   "cell_type": "code",
   "execution_count": 43,
   "metadata": {},
   "outputs": [
    {
     "name": "stdout",
     "output_type": "stream",
     "text": [
      "For given sphere shape: Perimeter is 18.85, Area is 113.1, Volume is 113.1\n"
     ]
    }
   ],
   "source": [
    "shape_calculator (6,6,4,'sphere')"
   ]
  }
 ],
 "metadata": {
  "interpreter": {
   "hash": "aee8b7b246df8f9039afb4144a1f6fd8d2ca17a180786b69acc140d282b71a49"
  },
  "kernelspec": {
   "display_name": "Python 3.10.0 64-bit",
   "language": "python",
   "name": "python3"
  },
  "language_info": {
   "codemirror_mode": {
    "name": "ipython",
    "version": 3
   },
   "file_extension": ".py",
   "mimetype": "text/x-python",
   "name": "python",
   "nbconvert_exporter": "python",
   "pygments_lexer": "ipython3",
   "version": "3.10.0"
  },
  "orig_nbformat": 4
 },
 "nbformat": 4,
 "nbformat_minor": 2
}
